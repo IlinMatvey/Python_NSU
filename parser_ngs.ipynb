{
 "cells": [
  {
   "cell_type": "markdown",
   "metadata": {},
   "source": [
    "# Часть 2: **Парсинг web-страниц**\n",
    "Автор: `Ильин Матвей 23712`\n",
    "\n",
    "### Описание:\n",
    "В качестве примера для реализации алгоритма парсинга был выбран новостной сайт: https://ngs.ru/ и библиотека BeautifulSoup4.\n"
   ]
  },
  {
   "cell_type": "markdown",
   "metadata": {},
   "source": [
    "### Импортирование необходимых библиотек"
   ]
  },
  {
   "cell_type": "code",
   "execution_count": 1,
   "metadata": {},
   "outputs": [],
   "source": [
    "from bs4 import BeautifulSoup\n",
    "from tqdm import tqdm\n",
    "import requests\n",
    "import pandas as pd"
   ]
  },
  {
   "cell_type": "markdown",
   "metadata": {},
   "source": [
    "### Проверка соединения с сервером"
   ]
  },
  {
   "cell_type": "code",
   "execution_count": 11,
   "metadata": {},
   "outputs": [
    {
     "name": "stdout",
     "output_type": "stream",
     "text": [
      "<Response [200]>\n"
     ]
    }
   ],
   "source": [
    "# Укажите дату, начиная с которой будут парситься новости с сайта НГС\n",
    "start_date = '01.03.2024'\n",
    "# Укажите дату, до которой будут парситься новости с сайта НГС\n",
    "end_date = '01.05.2024'\n",
    "\n",
    "\n",
    "url = f'https://ngs.ru/text/?dateFrom={start_date}&dateTo={end_date}'\n",
    "response = requests.get(url)\n",
    "print(response)"
   ]
  },
  {
   "cell_type": "markdown",
   "metadata": {},
   "source": [
    "### Алгоритм парсинга"
   ]
  },
  {
   "cell_type": "code",
   "execution_count": 12,
   "metadata": {},
   "outputs": [
    {
     "name": "stdout",
     "output_type": "stream",
     "text": [
      "Количество страниц: 98\n"
     ]
    },
    {
     "name": "stderr",
     "output_type": "stream",
     "text": [
      "100%|██████████| 98/98 [01:25<00:00,  1.14it/s]\n"
     ]
    }
   ],
   "source": [
    "bs = BeautifulSoup(response.text,\"lxml\")\n",
    "page_amount = int(bs.find_all('a', 'KrYc4')[-1].text)\n",
    "print(f\"Количество страниц: {page_amount}\")\n",
    "\n",
    "articles_list = []\n",
    "dates_list = []\n",
    "views_amount_list = []\n",
    "comments_amount_list = []\n",
    "\n",
    "\n",
    "for page in tqdm(range(1, page_amount+1)):\n",
    "    url = f'https://ngs.ru/text/?dateFrom={start_date}&dateTo={end_date}&page={page}'\n",
    "    response = requests.get(url)\n",
    "    bs = BeautifulSoup(response.text,\"lxml\")\n",
    "    \n",
    "    all_news = bs.find_all('div', 'eQ4k7')\n",
    "    for news in all_news:\n",
    "        article = news.find('h2', 'h9Jmx').text\n",
    "        articles_list.append(article)\n",
    "        date = news.find('div', 'Hiu4B vx3Rq').find('time', class_='_2DfZq')['datetime']\n",
    "        dates_list.append(date)\n",
    "        info = news.find_all('span', '_3mETe')\n",
    "        try:\n",
    "            views_amount_list.append(info[0].text)\n",
    "        except:\n",
    "            views_amount_list.append(0)\n",
    "        try:\n",
    "            comments_amount_list.append(info[1].text)\n",
    "        except:\n",
    "            comments_amount_list.append(0)\n",
    "\n",
    "df_news = pd.DataFrame({'arcticle': articles_list,\n",
    "                        'date': dates_list,\n",
    "                        'views_amount': views_amount_list,\n",
    "                        'comments_amount': comments_amount_list})\n"
   ]
  },
  {
   "cell_type": "markdown",
   "metadata": {},
   "source": [
    "### Проверка результатов парсинга"
   ]
  },
  {
   "cell_type": "code",
   "execution_count": 13,
   "metadata": {},
   "outputs": [
    {
     "data": {
      "text/html": [
       "<div>\n",
       "<style scoped>\n",
       "    .dataframe tbody tr th:only-of-type {\n",
       "        vertical-align: middle;\n",
       "    }\n",
       "\n",
       "    .dataframe tbody tr th {\n",
       "        vertical-align: top;\n",
       "    }\n",
       "\n",
       "    .dataframe thead th {\n",
       "        text-align: right;\n",
       "    }\n",
       "</style>\n",
       "<table border=\"1\" class=\"dataframe\">\n",
       "  <thead>\n",
       "    <tr style=\"text-align: right;\">\n",
       "      <th></th>\n",
       "      <th>arcticle</th>\n",
       "      <th>date</th>\n",
       "      <th>views_amount</th>\n",
       "      <th>comments_amount</th>\n",
       "    </tr>\n",
       "  </thead>\n",
       "  <tbody>\n",
       "    <tr>\n",
       "      <th>0</th>\n",
       "      <td>Вакцина от COVID-19 могла вызывать тромбоз, из...</td>\n",
       "      <td>2024-05-01T23:48:39</td>\n",
       "      <td>8 726</td>\n",
       "      <td>149</td>\n",
       "    </tr>\n",
       "    <tr>\n",
       "      <th>1</th>\n",
       "      <td>Пик метеорного потока Эта-Аквариды увидят ново...</td>\n",
       "      <td>2024-05-01T23:45:00</td>\n",
       "      <td>3 133</td>\n",
       "      <td>8</td>\n",
       "    </tr>\n",
       "    <tr>\n",
       "      <th>2</th>\n",
       "      <td>В Новосибирске отменили концерт Леши Свика — п...</td>\n",
       "      <td>2024-05-01T22:50:00</td>\n",
       "      <td>7 378</td>\n",
       "      <td>36</td>\n",
       "    </tr>\n",
       "    <tr>\n",
       "      <th>3</th>\n",
       "      <td>Порывы до 21 м/с: в Новосибирской области объя...</td>\n",
       "      <td>2024-05-01T21:20:00</td>\n",
       "      <td>9 616</td>\n",
       "      <td>23</td>\n",
       "    </tr>\n",
       "    <tr>\n",
       "      <th>4</th>\n",
       "      <td>«Врачи не верили»: история россиянки, 18 лет с...</td>\n",
       "      <td>2024-05-01T20:30:00</td>\n",
       "      <td>7 023</td>\n",
       "      <td>19</td>\n",
       "    </tr>\n",
       "    <tr>\n",
       "      <th>...</th>\n",
       "      <td>...</td>\n",
       "      <td>...</td>\n",
       "      <td>...</td>\n",
       "      <td>...</td>\n",
       "    </tr>\n",
       "    <tr>\n",
       "      <th>3886</th>\n",
       "      <td>Голова белого медвежонка застряла в конусе — з...</td>\n",
       "      <td>2024-03-01T00:16:00</td>\n",
       "      <td>6 551</td>\n",
       "      <td>10</td>\n",
       "    </tr>\n",
       "    <tr>\n",
       "      <th>3887</th>\n",
       "      <td>Современная Италия в центре Новосибирска: неда...</td>\n",
       "      <td>2024-03-01T00:15:00</td>\n",
       "      <td>1 460</td>\n",
       "      <td>0</td>\n",
       "    </tr>\n",
       "    <tr>\n",
       "      <th>3888</th>\n",
       "      <td>Изменит облик Новосибирска: руководитель извес...</td>\n",
       "      <td>2024-03-01T00:00:00</td>\n",
       "      <td>22 148</td>\n",
       "      <td>0</td>\n",
       "    </tr>\n",
       "    <tr>\n",
       "      <th>3889</th>\n",
       "      <td>Александр Малинин, Павел Деревянко, Борис Андр...</td>\n",
       "      <td>2024-03-01T00:00:00</td>\n",
       "      <td>6 447</td>\n",
       "      <td>0</td>\n",
       "    </tr>\n",
       "    <tr>\n",
       "      <th>3890</th>\n",
       "      <td>Бизнес «под ключ» с гарантией доходности. В Но...</td>\n",
       "      <td>2024-03-01T00:00:00</td>\n",
       "      <td>6 912</td>\n",
       "      <td>0</td>\n",
       "    </tr>\n",
       "  </tbody>\n",
       "</table>\n",
       "<p>3891 rows × 4 columns</p>\n",
       "</div>"
      ],
      "text/plain": [
       "                                               arcticle                 date  \\\n",
       "0     Вакцина от COVID-19 могла вызывать тромбоз, из...  2024-05-01T23:48:39   \n",
       "1     Пик метеорного потока Эта-Аквариды увидят ново...  2024-05-01T23:45:00   \n",
       "2     В Новосибирске отменили концерт Леши Свика — п...  2024-05-01T22:50:00   \n",
       "3     Порывы до 21 м/с: в Новосибирской области объя...  2024-05-01T21:20:00   \n",
       "4     «Врачи не верили»: история россиянки, 18 лет с...  2024-05-01T20:30:00   \n",
       "...                                                 ...                  ...   \n",
       "3886  Голова белого медвежонка застряла в конусе — з...  2024-03-01T00:16:00   \n",
       "3887  Современная Италия в центре Новосибирска: неда...  2024-03-01T00:15:00   \n",
       "3888  Изменит облик Новосибирска: руководитель извес...  2024-03-01T00:00:00   \n",
       "3889  Александр Малинин, Павел Деревянко, Борис Андр...  2024-03-01T00:00:00   \n",
       "3890  Бизнес «под ключ» с гарантией доходности. В Но...  2024-03-01T00:00:00   \n",
       "\n",
       "     views_amount comments_amount  \n",
       "0           8 726             149  \n",
       "1           3 133               8  \n",
       "2           7 378              36  \n",
       "3           9 616              23  \n",
       "4           7 023              19  \n",
       "...           ...             ...  \n",
       "3886        6 551              10  \n",
       "3887        1 460               0  \n",
       "3888       22 148               0  \n",
       "3889        6 447               0  \n",
       "3890        6 912               0  \n",
       "\n",
       "[3891 rows x 4 columns]"
      ]
     },
     "execution_count": 13,
     "metadata": {},
     "output_type": "execute_result"
    }
   ],
   "source": [
    "df_news"
   ]
  }
 ],
 "metadata": {
  "kernelspec": {
   "display_name": "Python 3",
   "language": "python",
   "name": "python3"
  },
  "language_info": {
   "codemirror_mode": {
    "name": "ipython",
    "version": 3
   },
   "file_extension": ".py",
   "mimetype": "text/x-python",
   "name": "python",
   "nbconvert_exporter": "python",
   "pygments_lexer": "ipython3",
   "version": "3.10.5"
  }
 },
 "nbformat": 4,
 "nbformat_minor": 2
}
