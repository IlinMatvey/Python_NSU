{
 "cells": [
  {
   "cell_type": "markdown",
   "metadata": {},
   "source": [
    "# Часть 1: **ООП**\n",
    "Автор: `Ильин Матвей 23712`"
   ]
  },
  {
   "cell_type": "markdown",
   "metadata": {},
   "source": [
    "### Задача 2 `#инкапсуляция` `#декораторы` `#наследование` `#super` `abc`\n"
   ]
  },
  {
   "cell_type": "markdown",
   "metadata": {},
   "source": [
    "Необходимо создать систему классов для транспортных средств с учетом следующих требований:\n",
    "1. Необходимо создать абстрактный класс Transport, который будет представлять общие характеристики для всех видов транспорта.\n",
    "В этом классе нужно определить абстрактный метод calculate_fuel_cost(), который будет вычислять стоимость топлива для каждого транспортного средства в зависимости от расхода топлива и цены за литр.\n",
    "\n",
    "2. Необходимо создать дочерние классы, представляющие конкретные типы транспорта, такие как Bus, Truck и Car.\n",
    "Каждый из этих классов должен наследовать абстрактный класс Transport и реализовать метод calculate_fuel_cost(), специфичный для данного типа транспорта (придумайте уникальный параметр сами).\n"
   ]
  },
  {
   "cell_type": "markdown",
   "metadata": {},
   "source": [
    "### Решение задачи 2"
   ]
  },
  {
   "cell_type": "code",
   "execution_count": 14,
   "metadata": {},
   "outputs": [],
   "source": [
    "from abc import ABC, abstractmethod\n",
    "\n",
    "class Transport(ABC):\n",
    "    def __init__(self, brand, model, fuel_consumption):\n",
    "        self.brand = brand  \n",
    "        self.model = model\n",
    "        self.fuel_consumption = fuel_consumption\n",
    "\n",
    "    @abstractmethod\n",
    "    def calculate_fuel_cost(self, fuel_price):\n",
    "        pass\n",
    "\n",
    "class Bus(Transport):\n",
    "    def __init__(self, brand, model, fuel_consumption, capacity):\n",
    "        super().__init__(brand, model, fuel_consumption)\n",
    "        self.capacity = capacity\n",
    "\n",
    "    def calculate_fuel_cost(self, fuel_price):\n",
    "        # Расход топлива учитывается на основе числа пассажиров и стоимости топлива\n",
    "        return self.fuel_consumption * self.capacity * fuel_price\n",
    "\n",
    "class Truck(Transport):\n",
    "    def __init__(self, brand, model, fuel_consumption, cargo_weight):\n",
    "        super().__init__(brand, model, fuel_consumption)\n",
    "        self.cargo_weight = cargo_weight\n",
    "\n",
    "    def calculate_fuel_cost(self, fuel_price):\n",
    "        # Расход топлива учитывается на основе веса груза и стоимости топлива\n",
    "        return self.fuel_consumption * self.cargo_weight * fuel_price\n",
    "\n",
    "class Car(Transport):\n",
    "    def __init__(self, brand, model, fuel_consumption, passengers):\n",
    "        super().__init__(brand, model, fuel_consumption)\n",
    "        self.passengers = passengers\n",
    "\n",
    "    def calculate_fuel_cost(self, fuel_price):\n",
    "        # Расход топлива учитывается на основе числа пассажиров и стоимости топлива\n",
    "        return self.fuel_consumption * self.passengers * fuel_price"
   ]
  },
  {
   "cell_type": "markdown",
   "metadata": {},
   "source": [
    "### Примеры использования"
   ]
  },
  {
   "cell_type": "code",
   "execution_count": 15,
   "metadata": {},
   "outputs": [
    {
     "name": "stdout",
     "output_type": "stream",
     "text": [
      "Стоимость топлива для автобуса: 900.0\n",
      "Стоимость топлива для грузовика: 3000.0\n",
      "Стоимость топлива для легкового автомобиля: 80.0\n"
     ]
    }
   ],
   "source": [
    "bus1 = Bus(\"Mercedes\", \"Sprinter\", 12, 30)\n",
    "truck1 = Truck(\"Volvo\", \"FH16\", 30, 40)\n",
    "car1 = Car(\"Toyota\", \"Corolla\", 8, 4)\n",
    "\n",
    "fuel_price = 2.5  # Стоимость топлива за литр\n",
    "\n",
    "# Рассчет стоимости топлива для каждого транспортного средства\n",
    "print(f\"Стоимость топлива для автобуса: {bus1.calculate_fuel_cost(fuel_price)}\")\n",
    "print(f\"Стоимость топлива для грузовика: {truck1.calculate_fuel_cost(fuel_price)}\")\n",
    "print(f\"Стоимость топлива для легкового автомобиля: {car1.calculate_fuel_cost(fuel_price)}\")"
   ]
  },
  {
   "cell_type": "markdown",
   "metadata": {},
   "source": [
    "### Unit-тестирование"
   ]
  },
  {
   "cell_type": "code",
   "execution_count": 16,
   "metadata": {},
   "outputs": [
    {
     "name": "stderr",
     "output_type": "stream",
     "text": [
      "test_bus_fuel_cost (__main__.TestTransport) ... ok\n",
      "test_car_fuel_cost (__main__.TestTransport) ... ok\n",
      "test_truck_fuel_cost (__main__.TestTransport) ... ok\n",
      "\n",
      "----------------------------------------------------------------------\n",
      "Ran 3 tests in 0.004s\n",
      "\n",
      "OK\n"
     ]
    },
    {
     "data": {
      "text/plain": [
       "<unittest.main.TestProgram at 0x2e5d2445030>"
      ]
     },
     "execution_count": 16,
     "metadata": {},
     "output_type": "execute_result"
    }
   ],
   "source": [
    "import unittest\n",
    "\n",
    "class TestTransport(unittest.TestCase):\n",
    "    def test_bus_fuel_cost(self):\n",
    "        # Создаем экземпляр автобуса\n",
    "        bus = Bus(\"Mercedes\", \"Sprinter\", 12, 30)\n",
    "        fuel_price = 2.5\n",
    "        \n",
    "        # Ожидаемый результат: 12 * 30 * 2.5 = 900\n",
    "        expected_cost = 12 * 30 * fuel_price\n",
    "        self.assertEqual(bus.calculate_fuel_cost(fuel_price), expected_cost)\n",
    "\n",
    "    def test_truck_fuel_cost(self):\n",
    "        # Создаем экземпляр грузовика\n",
    "        truck = Truck(\"Volvo\", \"FH16\", 30, 15000)\n",
    "        fuel_price = 2.5\n",
    "        \n",
    "        # Ожидаемый результат: 30 * 15000 * 2.5 = 1125000\n",
    "        expected_cost = 30 * 15000 * fuel_price\n",
    "        self.assertEqual(truck.calculate_fuel_cost(fuel_price), expected_cost)\n",
    "\n",
    "    def test_car_fuel_cost(self):\n",
    "        # Создаем экземпляр легкового автомобиля\n",
    "        car = Car(\"Toyota\", \"Corolla\", 8, 4)\n",
    "        fuel_price = 2.5\n",
    "        \n",
    "        # Ожидаемый результат: 8 * 4 * 2.5 = 80\n",
    "        expected_cost = 8 * 4 * fuel_price\n",
    "        self.assertEqual(car.calculate_fuel_cost(fuel_price), expected_cost)\n",
    "\n",
    "unittest.main(argv=[''], verbosity=2, exit=False)"
   ]
  }
 ],
 "metadata": {
  "kernelspec": {
   "display_name": "Python 3",
   "language": "python",
   "name": "python3"
  },
  "language_info": {
   "codemirror_mode": {
    "name": "ipython",
    "version": 3
   },
   "file_extension": ".py",
   "mimetype": "text/x-python",
   "name": "python",
   "nbconvert_exporter": "python",
   "pygments_lexer": "ipython3",
   "version": "3.10.5"
  }
 },
 "nbformat": 4,
 "nbformat_minor": 2
}
