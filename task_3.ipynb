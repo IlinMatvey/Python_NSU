{
 "cells": [
  {
   "cell_type": "markdown",
   "metadata": {},
   "source": [
    "# Часть 1: **ООП**\n",
    "Автор: `Ильин Матвей 23712`"
   ]
  },
  {
   "cell_type": "markdown",
   "metadata": {},
   "source": [
    "### Задача 3*: Зоопарк `#abc` `#декораторы` `#наследование` `#super` `#инкапсуляция`\n",
    "\n",
    "Рассмотрим систему управления зоопарком, где есть различные виды животных и их вольеры. Необходимо создать систему классов для представления зоопарка, животных и вольеров. \n",
    "1. Необходимо создать абстрактный класс Animal, представляющим общие характеристики и поведение животных в зоопарке.\n",
    "У каждого животного будет имя (name) и вид (species).\n",
    "Реализуйте приватный метод make_sound(), который будет \"создавать\" звук животного.\n",
    "Реализуйте публичный метод perform_sound(), который будет воспроизводить звук.\n",
    "\n",
    "2. Необходимо создать конкретные классы для различных видов животных, наследуясь от класса Animal.\n",
    "В каждом классе реализуйте метод make_sound(), чтобы описать звук, издаваемый данным видом животного.\n",
    "\n",
    "3. Необходимо создать класс Enclosure - вольер для животных в зоопарке.\n",
    "Вольер может содержать определенное количество животных определенного вида.\n",
    "Реализуйте приватные методы для добавления (add_animal()) и удаления (remove_animal()) животных из вольера."
   ]
  },
  {
   "cell_type": "markdown",
   "metadata": {},
   "source": [
    "### Решение задачи 3"
   ]
  },
  {
   "cell_type": "code",
   "execution_count": 21,
   "metadata": {},
   "outputs": [],
   "source": [
    "from abc import ABC, abstractmethod\n",
    "\n",
    "# Создание абстрактного класса Animal\n",
    "class Animal(ABC):\n",
    "    def __init__(self, name, species):\n",
    "        self._name = name\n",
    "        self._species = species\n",
    "\n",
    "    @abstractmethod\n",
    "    def _make_sound(self):\n",
    "        pass\n",
    "\n",
    "    def display_info(self):\n",
    "        print(f\"{self._species} {self._name}\")\n",
    "\n",
    "    def perform_sound(self):\n",
    "        self._make_sound()\n",
    "\n",
    "# Класс Лев\n",
    "class Lion(Animal):\n",
    "    def __init__(self, name):\n",
    "        super().__init__(name, \"Лев\")\n",
    "\n",
    "    def _make_sound(self):\n",
    "        print(\"Рычание!\")\n",
    "\n",
    "\n",
    "# Класс Бегемот\n",
    "class Hippopotamus(Animal):\n",
    "    def __init__(self, name):\n",
    "        super().__init__(name, \"Бегемот\")\n",
    "\n",
    "    def _make_sound(self):\n",
    "        print(\"Рёв!\")\n",
    "\n",
    "# Класс Вольер\n",
    "class Enclosure:\n",
    "    def __init__(self, animal_species, capacity):\n",
    "        self._animal_species = animal_species\n",
    "        self._capacity = capacity # Ограничение на количество животных каждого вида\n",
    "        self._animals = []\n",
    "\n",
    "    def add_animal(self, animal):\n",
    "        if len(self._animals) < self._capacity and animal._species == self._animal_species:\n",
    "            self._animals.append(animal)\n",
    "            print(f\"{animal._species} {animal._name} добавлено в вольер.\")\n",
    "        else:\n",
    "            print(f\"Нельзя добавить {animal._species} {animal._name} в вольер.\")\n",
    "\n",
    "    def remove_animal(self, animal):\n",
    "        if animal in self._animals:\n",
    "            self._animals.remove(animal)\n",
    "            print(f\"{animal._species} {animal._name} убрано из вольера\")\n",
    "        else:\n",
    "            print(\"Ошибка\")\n",
    "\n",
    "    def display_animals(self):\n",
    "        print(f\"Количество животных в вольере '{self._animal_species}':\")\n",
    "        for animal in self._animals:\n",
    "            animal.display_info()"
   ]
  },
  {
   "cell_type": "markdown",
   "metadata": {},
   "source": [
    "### Примеры использования"
   ]
  },
  {
   "cell_type": "code",
   "execution_count": 24,
   "metadata": {},
   "outputs": [
    {
     "name": "stdout",
     "output_type": "stream",
     "text": [
      "Лев Симба\n",
      "Лев Симба добавлено в вольер.\n",
      "Нельзя добавить Бегемот Глория в вольер.\n",
      "Лев Муфаса добавлено в вольер.\n",
      "Рычание!\n",
      "Рёв!\n",
      "Количество животных в вольере 'Лев':\n",
      "Лев Симба\n",
      "Лев Муфаса\n"
     ]
    }
   ],
   "source": [
    "# Создание экземпляров животных\n",
    "lion1 = Lion(\"Симба\")\n",
    "lion2 = Lion(\"Муфаса\")\n",
    "hippo1 = Hippopotamus(\"Глория\")\n",
    "\n",
    "lion1.display_info()\n",
    "\n",
    "# Создание вольера для львов (максимальное количество животных: 2)\n",
    "lion_enclosure = Enclosure(\"Лев\", 2)\n",
    "\n",
    "# Добавление животных в вольер\n",
    "lion_enclosure.add_animal(lion1)  # Добавление льва \"Симба\"\n",
    "lion_enclosure.add_animal(hippo1)  # Попытка добавить бегемота (невозможно)\n",
    "lion_enclosure.add_animal(lion2)  # Добавление льва \"Муфаса\"\n",
    "\n",
    "# Воспроизведение звуков\n",
    "lion1.perform_sound()  # \"Рычание!\"\n",
    "hippo1.perform_sound()  # \"Рёв!\"\n",
    "\n",
    "# Отображение информации о животных в вольере\n",
    "lion_enclosure.display_animals()\n"
   ]
  },
  {
   "cell_type": "code",
   "execution_count": 23,
   "metadata": {},
   "outputs": [
    {
     "name": "stderr",
     "output_type": "stream",
     "text": [
      "test_add_animal_failure (__main__.TestEnclosure) ... ok\n",
      "test_add_animal_success (__main__.TestEnclosure) ... ok\n",
      "test_display_animals (__main__.TestEnclosure) ... ok\n",
      "test_remove_animal (__main__.TestEnclosure) ... ok\n",
      "test_make_sound (__main__.TestHippopotamus) ... ok\n",
      "test_make_sound (__main__.TestLion) ... ok\n",
      "\n",
      "----------------------------------------------------------------------\n",
      "Ran 6 tests in 0.007s\n",
      "\n",
      "OK\n"
     ]
    },
    {
     "name": "stdout",
     "output_type": "stream",
     "text": [
      "Лев Simba добавлено в вольер.\n",
      "Лев Simba добавлено в вольер.\n",
      "Лев Mufasa добавлено в вольер.\n",
      "Лев Simba добавлено в вольер.\n"
     ]
    },
    {
     "data": {
      "text/plain": [
       "<unittest.main.TestProgram at 0x2165dad5c30>"
      ]
     },
     "execution_count": 23,
     "metadata": {},
     "output_type": "execute_result"
    }
   ],
   "source": [
    "import unittest\n",
    "from io import StringIO\n",
    "from unittest.mock import patch\n",
    "\n",
    "class TestLion(unittest.TestCase):\n",
    "    def test_make_sound(self):\n",
    "        lion = Lion(\"Simba\")\n",
    "        expected_output = \"Рычание!\\n\"\n",
    "        with patch(\"sys.stdout\", new=StringIO()) as fake_out:\n",
    "            lion.perform_sound()\n",
    "            self.assertEqual(fake_out.getvalue(), expected_output)\n",
    "\n",
    "class TestHippopotamus(unittest.TestCase):\n",
    "    def test_make_sound(self):\n",
    "        hippo = Hippopotamus(\"Gloria\")\n",
    "        expected_output = \"Рёв!\\n\"\n",
    "        with patch(\"sys.stdout\", new=StringIO()) as fake_out:\n",
    "            hippo.perform_sound()\n",
    "            self.assertEqual(fake_out.getvalue(), expected_output)\n",
    "\n",
    "class TestEnclosure(unittest.TestCase):\n",
    "    def test_add_animal_success(self):\n",
    "        enclosure = Enclosure(\"Лев\", 2)\n",
    "        lion1 = Lion(\"Simba\")\n",
    "        with patch(\"sys.stdout\", new=StringIO()) as fake_out:\n",
    "            enclosure.add_animal(lion1)\n",
    "            expected_output = \"Лев Simba добавлено в вольер.\\n\"\n",
    "            self.assertEqual(fake_out.getvalue(), expected_output)\n",
    "\n",
    "    def test_add_animal_failure(self):\n",
    "        enclosure = Enclosure(\"Лев\", 1)\n",
    "        lion1 = Lion(\"Simba\")\n",
    "        lion2 = Lion(\"Mufasa\")\n",
    "        enclosure.add_animal(lion1)\n",
    "        with patch(\"sys.stdout\", new=StringIO()) as fake_out:\n",
    "            enclosure.add_animal(lion2)\n",
    "            expected_output = \"Нельзя добавить Лев Mufasa в вольер.\\n\"\n",
    "            self.assertEqual(fake_out.getvalue(), expected_output)\n",
    "\n",
    "    def test_remove_animal(self):\n",
    "        enclosure = Enclosure(\"Лев\", 2)\n",
    "        lion1 = Lion(\"Simba\")\n",
    "        enclosure.add_animal(lion1)\n",
    "        with patch(\"sys.stdout\", new=StringIO()) as fake_out:\n",
    "            enclosure.remove_animal(lion1)\n",
    "            expected_output = \"Лев Simba убрано из вольера\\n\"\n",
    "            self.assertEqual(fake_out.getvalue(), expected_output)\n",
    "\n",
    "    def test_display_animals(self):\n",
    "        enclosure = Enclosure(\"Лев\", 2)\n",
    "        lion1 = Lion(\"Simba\")\n",
    "        lion2 = Lion(\"Mufasa\")\n",
    "        enclosure.add_animal(lion1)\n",
    "        enclosure.add_animal(lion2)\n",
    "        with patch(\"sys.stdout\", new=StringIO()) as fake_out:\n",
    "            enclosure.display_animals()\n",
    "            expected_output = \"Количество животных в вольере 'Лев':\\nЛев Simba\\nЛев Mufasa\\n\"\n",
    "            self.assertEqual(fake_out.getvalue(), expected_output)\n",
    "\n",
    "unittest.main(argv=[''], verbosity=2, exit=False)"
   ]
  }
 ],
 "metadata": {
  "kernelspec": {
   "display_name": "Python 3",
   "language": "python",
   "name": "python3"
  },
  "language_info": {
   "codemirror_mode": {
    "name": "ipython",
    "version": 3
   },
   "file_extension": ".py",
   "mimetype": "text/x-python",
   "name": "python",
   "nbconvert_exporter": "python",
   "pygments_lexer": "ipython3",
   "version": "3.10.5"
  }
 },
 "nbformat": 4,
 "nbformat_minor": 2
}
